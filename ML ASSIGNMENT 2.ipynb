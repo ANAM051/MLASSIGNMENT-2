{
 "cells": [
  {
   "cell_type": "markdown",
   "id": "56fed65c",
   "metadata": {},
   "source": [
    "1. What is the concept of human learning? Please give two examples.\n",
    "2. What different forms of human learning are there? Are there any machine learning equivalents?\n",
    "3. What is machine learning, and how does it work? What are the key responsibilities of machine\n",
    "learning?\n",
    "4. Define the terms &quot;penalty&quot; and &quot;reward&quot; in the context of reinforcement learning.\n",
    "5. Explain the term &quot;learning as a search&quot;?\n",
    "6. What are the various goals of machine learning? What is the relationship between these and\n",
    "human learning?\n",
    "7. Illustrate the various elements of machine learning using a real-life illustration.\n",
    "8. Provide an example of the abstraction method.\n",
    "9. What is the concept of generalization? What function does it play in the machine learning\n",
    "process?\n",
    "10.What is classification, exactly? What are the main distinctions between classification and regression?\n",
    "11. What is regression, and how does it work? Give an example of a real-world problem that was\n",
    "solved using regression.\n",
    "12. Describe the clustering mechanism in detail.\n",
    "13. Make brief observations on two of the following topics:\n",
    "\n",
    "i. Machine learning algorithms are used\n",
    "ii. Studying under supervision\n",
    "iii. Studying without supervision\n",
    "\n",
    "iv. Reinforcement learning is a form of learning based on positive reinforcement."
   ]
  },
  {
   "cell_type": "markdown",
   "id": "78073e83",
   "metadata": {},
   "source": [
    "1.Human learning means how a person is able to understand things by seeing in an environment."
   ]
  },
  {
   "cell_type": "markdown",
   "id": "1a44e0c5",
   "metadata": {},
   "source": [
    "3.In Machine learning an artificial model has been created in order to do a specified task.Responsibilities of ML is to perform given task, on the given data and gives the output."
   ]
  },
  {
   "cell_type": "markdown",
   "id": "5361bd1f",
   "metadata": {},
   "source": [
    "4.In Reinforcement learning an agent analyses the environment and perform the task , the goal is to minimise penalty and maximise reward.Penalty means model gives the wrong prediction and reward means the model has given the right prediction. "
   ]
  },
  {
   "cell_type": "markdown",
   "id": "513356d6",
   "metadata": {},
   "source": [
    "5.Learning as asearch means finding the best solutions by reading,exploring things. ML is a learning as a search method,in this model uses algorithm to learn from the data and predict the output.The objective of ML is to minimise the error ."
   ]
  },
  {
   "cell_type": "markdown",
   "id": "85fb966a",
   "metadata": {},
   "source": [
    "6.Goals of ML are : read the data , predict the high  output, generate new data.\n",
    "Relationship between ML and Human learning are: ML algorithms inspired from the human neural network, reinforcement learning,natural language processing for task solving, it can analyse the patterns from the data sets .ML algorithms are rigid ,while human  learning is not.\n",
    "        "
   ]
  },
  {
   "cell_type": "markdown",
   "id": "065929c4",
   "metadata": {},
   "source": [
    "7.Real life ML examples are:spam classification, diabetes detection, mushroom classification, income prediction."
   ]
  },
  {
   "cell_type": "markdown",
   "id": "8f2e1aa6",
   "metadata": {},
   "source": [
    "8.Abstraction method is an object oriented programming concept, it is not created but inherited from the classes ,Abstract method reduces the complexity, and is denoted by a decorator @ABSTRACT CLASS."
   ]
  },
  {
   "cell_type": "markdown",
   "id": "2397b819",
   "metadata": {},
   "source": [
    "9.Generalisation means the ML model has good prediction in training and test data.means algorithm can accurately analyse and predict the unseen dataset."
   ]
  },
  {
   "cell_type": "markdown",
   "id": "bccdaa89",
   "metadata": {},
   "source": [
    "10.Classification means we have to create a best fit line so that a dataset can be divided in two groups."
   ]
  },
  {
   "cell_type": "markdown",
   "id": "26b64491",
   "metadata": {},
   "source": [
    "11.In regression we have to create a best fit line and all the data is around that best fit line.real world example is Capital asset pricing model."
   ]
  },
  {
   "cell_type": "markdown",
   "id": "ac5efd4b",
   "metadata": {},
   "source": [
    "12.clustering is a method used to group the similar  datapoints in a same group.It is an unsupervised ML technique."
   ]
  },
  {
   "cell_type": "markdown",
   "id": "4625cfcc",
   "metadata": {},
   "source": []
  }
 ],
 "metadata": {
  "kernelspec": {
   "display_name": "Python 3 (ipykernel)",
   "language": "python",
   "name": "python3"
  },
  "language_info": {
   "codemirror_mode": {
    "name": "ipython",
    "version": 3
   },
   "file_extension": ".py",
   "mimetype": "text/x-python",
   "name": "python",
   "nbconvert_exporter": "python",
   "pygments_lexer": "ipython3",
   "version": "3.9.12"
  }
 },
 "nbformat": 4,
 "nbformat_minor": 5
}
